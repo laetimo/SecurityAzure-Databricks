{
 "cells": [
  {
   "cell_type": "markdown",
   "metadata": {
    "application/vnd.databricks.v1+cell": {
     "cellMetadata": {},
     "inputWidgets": {},
     "nuid": "95082dae-b419-44a5-aa33-86fe7c72c3b8",
     "showTitle": false,
     "tableResultSettingsMap": {},
     "title": ""
    }
   },
   "source": [
    "pour monter le datalake dans databricks"
   ]
  },
  {
   "cell_type": "code",
   "execution_count": 0,
   "metadata": {
    "application/vnd.databricks.v1+cell": {
     "cellMetadata": {
      "byteLimit": 2048000,
      "rowLimit": 10000
     },
     "inputWidgets": {},
     "nuid": "cdec606a-6743-46eb-9e0c-b859775fc008",
     "showTitle": false,
     "tableResultSettingsMap": {},
     "title": ""
    }
   },
   "outputs": [
    {
     "output_type": "execute_result",
     "data": {
      "text/plain": [
       "True"
      ]
     },
     "execution_count": 13,
     "metadata": {},
     "output_type": "execute_result"
    }
   ],
   "source": [
    "# Définir les variables\n",
    "storage_account_name = \"storagegen2morel\"\n",
    "container_name = \"conteneurmorel\"\n",
    "mount_point = \"/mnt/mount_morel\"\n",
    "client_id = \"********-****-****-****-************\"\n",
    "tenant_id = \"********-****-****-****-************\"\n",
    "client_secret = dbutils.secrets.get(scope=\"scope-morel\", key=\"secret-databricks-morel\")\n",
    "\n",
    "# Configurer les configurations OAuth 2.0\n",
    "configs = {\n",
    "    \"fs.azure.account.auth.type\": \"OAuth\",\n",
    "    \"fs.azure.account.oauth.provider.type\": \"org.apache.hadoop.fs.azurebfs.oauth2.ClientCredsTokenProvider\",\n",
    "    \"fs.azure.account.oauth2.client.id\": client_id,\n",
    "    \"fs.azure.account.oauth2.client.secret\": client_secret,\n",
    "    \"fs.azure.account.oauth2.client.endpoint\": f\"https://login.microsoftonline.com/{tenant_id}/oauth2/token\"\n",
    "}\n",
    "\n",
    "# Monter le Data Lake\n",
    "dbutils.fs.mount(\n",
    "    source = f\"abfss://{container_name}@{storage_account_name}.dfs.core.windows.net/\",\n",
    "    mount_point = mount_point,\n",
    "    extra_configs = configs\n",
    ")"
   ]
  },
  {
   "cell_type": "code",
   "execution_count": 0,
   "metadata": {
    "application/vnd.databricks.v1+cell": {
     "cellMetadata": {
      "byteLimit": 2048000,
      "rowLimit": 10000
     },
     "inputWidgets": {},
     "nuid": "a66ca62c-3ee9-43ec-87ec-98df934517ae",
     "showTitle": false,
     "tableResultSettingsMap": {},
     "title": ""
    }
   },
   "outputs": [
    {
     "output_type": "stream",
     "name": "stdout",
     "output_type": "stream",
     "text": [
      "+----------+----------+\n|listing_id|      date|\n+----------+----------+\n|    252232|2012-03-02|\n|    252232|2012-05-22|\n|    252232|2012-06-11|\n|    252232|2012-07-28|\n|    252232|2012-09-02|\n|    252232|2013-05-11|\n|    252232|2013-05-21|\n|    252232|2013-05-28|\n|    252232|2013-06-18|\n|    252232|2013-08-21|\n|    252232|2014-03-06|\n|    252232|2014-04-23|\n|    252232|2014-05-05|\n|    252232|2014-06-18|\n|    252232|2014-08-05|\n|    252232|2015-06-02|\n|    252232|2015-06-21|\n|    252232|2015-07-22|\n|    252232|2015-08-30|\n|    252232|2015-10-14|\n+----------+----------+\nonly showing top 20 rows\n\n"
     ]
    }
   ],
   "source": [
    "file_path = \"/mnt/mount_morel/airbnb\"\n",
    "\n",
    "#df = spark.read.format(\"delta\").load(file_path)\n",
    "\n",
    "df = spark.read.format(\"csv\") \\\n",
    "    .option(\"header\", \"true\") \\\n",
    "    .option(\"inferSchema\", \"true\") \\\n",
    "    .load(file_path)\n",
    "\n",
    "df.show()"
   ]
  }
 ],
 "metadata": {
  "application/vnd.databricks.v1+notebook": {
   "dashboards": [],
   "environmentMetadata": {
    "base_environment": "",
    "client": "1"
   },
   "language": "python",
   "notebookMetadata": {
    "pythonIndentUnit": 4
   },
   "notebookName": "Notebook monter datalake dans Databricks",
   "widgets": {}
  },
  "language_info": {
   "name": "python"
  }
 },
 "nbformat": 4,
 "nbformat_minor": 0
}
